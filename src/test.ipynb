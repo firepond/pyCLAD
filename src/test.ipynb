{
 "cells": [
  {
   "cell_type": "markdown",
   "id": "1af66810d6fe7c75",
   "metadata": {},
   "source": [
    "# test new parts in pyclad"
   ]
  },
  {
   "cell_type": "code",
   "execution_count": 1,
   "id": "bc3644ec57ef1d23",
   "metadata": {
    "ExecuteTime": {
     "end_time": "2025-06-19T12:00:12.625574Z",
     "start_time": "2025-06-19T12:00:12.622044Z"
    }
   },
   "outputs": [],
   "source": [
    "%load_ext autoreload\n",
    "%autoreload 2\n",
    "import pyclad\n",
    "import numpy as np\n",
    "import json\n",
    "import pandas as pd\n",
    "import matplotlib.pyplot as plt\n",
    "import seaborn as sns"
   ]
  },
  {
   "cell_type": "code",
   "execution_count": 2,
   "id": "62512d18558f63bb",
   "metadata": {
    "ExecuteTime": {
     "end_time": "2025-06-25T07:27:52.475696Z",
     "start_time": "2025-06-25T07:27:49.591619Z"
    }
   },
   "outputs": [
    {
     "name": "stderr",
     "output_type": "stream",
     "text": [
      "/Users/firepond/code/pyCLAD/.venv/lib/python3.13/site-packages/tqdm/auto.py:21: TqdmWarning: IProgress not found. Please update jupyter and ipywidgets. See https://ipywidgets.readthedocs.io/en/stable/user_install.html\n",
      "  from .autonotebook import tqdm as notebook_tqdm\n"
     ]
    }
   ],
   "source": [
    "# Imports\n",
    "\n",
    "import pathlib\n",
    "\n",
    "# Datasets\n",
    "from pyclad.data.datasets.unsw_dataset import UnswDataset\n",
    "from pyclad.data.datasets.nsl_kdd_dataset import NslKddDataset\n",
    "from pyclad.data.datasets.wind_energy_dataset import WindEnergyDataset\n",
    "from pyclad.data.datasets.energy_plants_dataset import EnergyPlantsDataset\n",
    "\n",
    "\n",
    "# Scenarios\n",
    "from pyclad.scenarios.concept_aware import ConceptAwareScenario\n",
    "\n",
    "# Models\n",
    "from pyclad.models.adapters.pyod_adapters import LocalOutlierFactorAdapter\n",
    "\n",
    "\n",
    "\n",
    "# Callback and metrics\n",
    "from pyclad.callbacks.evaluation.concept_metric_evaluation import ConceptMetricCallback\n",
    "from pyclad.callbacks.evaluation.memory_usage import MemoryUsageCallback\n",
    "from pyclad.callbacks.evaluation.time_evaluation import TimeEvaluationCallback\n",
    "from pyclad.metrics.base.roc_auc import RocAuc\n",
    "from pyclad.metrics.continual.average_continual import ContinualAverage\n",
    "from pyclad.metrics.continual.backward_transfer import BackwardTransfer\n",
    "from pyclad.metrics.continual.forward_transfer import ForwardTransfer\n",
    "from pyclad.output.json_writer import JsonOutputWriter\n"
   ]
  },
  {
   "cell_type": "markdown",
   "id": "fcd98444f7271a7d",
   "metadata": {},
   "source": [
    "Select the dataset that you want to use."
   ]
  },
  {
   "cell_type": "code",
   "execution_count": 3,
   "id": "6e6fea7eac2fa8a0",
   "metadata": {},
   "outputs": [],
   "source": [
    "# dataset = UnswDataset(dataset_type=\"clustered_with_closest_assignment\")\n",
    "dataset = UnswDataset(dataset_type=\"random_anomalies\")\n",
    "# dataset = EnergyPlantsDataset(dataset_type=\"random_anomalies\")\n",
    "# dataset = NslKddDataset(dataset_type=\"random_anomalies\")\n",
    "# dataset = WindEnergyDataset(dataset_type=\"random_anomalies\")\n",
    "# possible dataset assign types: \"clustered_with_closest_assignment\", \"random_anomalies\", \"clustered_with_random_assignment\"\n"
   ]
  },
  {
   "cell_type": "code",
   "execution_count": 4,
   "id": "69b34524",
   "metadata": {},
   "outputs": [],
   "source": [
    "# LOF model = LocalOutlierFactorAdapter(\n",
    "model  = LocalOutlierFactorAdapter()"
   ]
  },
  {
   "cell_type": "code",
   "execution_count": null,
   "id": "9e47bdee",
   "metadata": {},
   "outputs": [
    {
     "name": "stdout",
     "output_type": "stream",
     "text": [
      "Continual Average: 0.7063002763865752\n"
     ]
    }
   ],
   "source": [
    "# test of ReservoirSamplingStrategy\n",
    "from pyclad.strategies.replay.candi import CandiStrategy\n",
    "\n",
    "strategy = CandiStrategy(\n",
    "    model,\n",
    "    max_buffer_size=2000,\n",
    "    threshold_ratio=0.1,\n",
    "    warm_up_period=2,\n",
    "    resize_new_regime=True,\n",
    ")\n",
    "\n",
    "# Run the experiment\n",
    "callbacks = [\n",
    "    ConceptMetricCallback(\n",
    "        base_metric=RocAuc(),\n",
    "        metrics=[ContinualAverage(), BackwardTransfer(), ForwardTransfer()],\n",
    "    ),\n",
    "    TimeEvaluationCallback(),\n",
    "]\n",
    "scenario = ConceptAwareScenario(dataset=dataset, strategy=strategy, callbacks=callbacks)\n",
    "scenario.run()\n",
    "\n",
    "\n",
    "\n",
    "continual_average = callbacks[0].get_continual_average()\n",
    "print(f\"Continual Average: {continual_average}\")\n"
   ]
  }
 ],
 "metadata": {
  "kernelspec": {
   "display_name": ".venv",
   "language": "python",
   "name": "python3"
  },
  "language_info": {
   "codemirror_mode": {
    "name": "ipython",
    "version": 3
   },
   "file_extension": ".py",
   "mimetype": "text/x-python",
   "name": "python",
   "nbconvert_exporter": "python",
   "pygments_lexer": "ipython3",
   "version": "3.13.4"
  }
 },
 "nbformat": 4,
 "nbformat_minor": 5
}
